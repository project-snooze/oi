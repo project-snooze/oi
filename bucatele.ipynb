{
 "cells": [
  {
   "cell_type": "code",
   "execution_count": 13,
   "source": [
    "import requests\r\n",
    "import base64\r\n",
    "import asyncio\r\n",
    "import ast\r\n",
    "import json\r\n",
    "loop = asyncio.get_event_loop()\r\n",
    "\r\n",
    "async def post_photo(image):\r\n",
    "    url = \"https://api.imgbb.com/1/upload\"\r\n",
    "    key = \"0f6acb0d66647a379e2766ac4592d0c7\"\r\n",
    "    headers = {\"key\": key}\r\n",
    "    porc = {\"image\": image}\r\n",
    "    response = requests.request(\"POST\", url, params=headers, data=porc)\r\n",
    "    return str(response.content)"
   ],
   "outputs": [
    {
     "output_type": "stream",
     "name": "stdout",
     "text": [
      "Started into the post image method\n"
     ]
    }
   ],
   "metadata": {}
  },
  {
   "cell_type": "code",
   "execution_count": 11,
   "source": [
    "imagini=[]\r\n",
    "with open(\"images.txt\",\"r\") as file:\r\n",
    "    imagini=file.readlines()\r\n",
    "imagini=imagini[1:]"
   ],
   "outputs": [],
   "metadata": {}
  },
  {
   "cell_type": "code",
   "execution_count": 105,
   "source": [
    "import time\r\n",
    "images=[]\r\n",
    "i=3\r\n",
    "poza=str(i)+\".png\"\r\n",
    "with open(\"oile/\"+poza, \"rb\") as file:\r\n",
    "    hopa=loop.create_task(post_photo(base64.b64encode(file.read())))"
   ],
   "outputs": [
    {
     "output_type": "stream",
     "name": "stdout",
     "text": [
      "Started into the post image method\n"
     ]
    }
   ],
   "metadata": {}
  },
  {
   "cell_type": "code",
   "execution_count": 9,
   "source": [
    "citate=\"https://gist.githubusercontent.com/JakubPetriska/060958fd744ca34f099e947cd080b540/raw/963b5a9355f04741239407320ac973a6096cd7b6/quotes.csv\"\r\n",
    "df_quotes=pd.read_csv(citate)\r\n",
    "cetate=df_quotes['Quote']"
   ],
   "outputs": [],
   "metadata": {}
  },
  {
   "cell_type": "code",
   "execution_count": 3,
   "source": [
    "import random\r\n",
    "import pandas as pd\r\n",
    "df_first = pd.read_csv(\"oile/all_names.csv\", encoding=\"ISO-8859-1\")\r\n",
    "first_names = df_first[\"FirstForename\"]\r\n",
    "df_last = pd.read_csv(\r\n",
    "    \"https://raw.githubusercontent.com/fivethirtyeight/data/master/most-common-name/surnames.csv\", encoding=\"ISO-8859-1\")\r\n",
    "last_names = df_last['name']\r\n"
   ],
   "outputs": [],
   "metadata": {}
  },
  {
   "cell_type": "code",
   "execution_count": 144,
   "source": [
    "name=first_names[random.randrange(len(first_names))]+\" \"+last_names[random.randrange(len(last_names))].lower().capitalize()\r\n",
    "desc=cetate[random.randrange(len(cetate))]\r\n",
    "image=imagini[3].split(\"\\n\")[0]\r\n",
    "ceva={\r\n",
    "    \"name\":first+\" \"+last,\r\n",
    "    \"description\":desc,\r\n",
    "    \"image\":image,\r\n",
    "    \"attributes\": [{\"trait_type\": \"cuteness\", \"value\": random.randrange(100)}]\r\n",
    "}"
   ],
   "outputs": [],
   "metadata": {}
  },
  {
   "cell_type": "code",
   "execution_count": 7,
   "source": [
    "import random\r\n",
    "random.randrange(len(first_names))"
   ],
   "outputs": [
    {
     "output_type": "execute_result",
     "data": {
      "text/plain": [
       "5726"
      ]
     },
     "metadata": {},
     "execution_count": 7
    }
   ],
   "metadata": {}
  },
  {
   "cell_type": "code",
   "execution_count": 13,
   "source": [
    "import json\r\n",
    "import random\r\n",
    "counter=0;\r\n",
    "for i in range(1,778):\r\n",
    "    name=first_names[random.randrange(len(first_names))]+\" \"+last_names[random.randrange(len(last_names))].lower().capitalize()\r\n",
    "    desc=cetate[random.randrange(len(cetate))]\r\n",
    "    if counter==20:\r\n",
    "        counter=0\r\n",
    "    image=imagini[counter].split(\"\\n\")[0]\r\n",
    "    counter+=1\r\n",
    "    ceva={\r\n",
    "        \"name\":name,\r\n",
    "        \"description\":desc,\r\n",
    "        \"image\":image,\r\n",
    "        \"attributes\": [{\"trait_type\": \"cuteness\", \"value\": random.randrange(100)}]\r\n",
    "    }\r\n",
    "    with open(\"metadata/\"+str(i)+\".json\", \"w\") as file:\r\n",
    "        file.write(json.dumps(ceva))"
   ],
   "outputs": [],
   "metadata": {}
  }
 ],
 "metadata": {
  "orig_nbformat": 4,
  "language_info": {
   "name": "python",
   "version": "3.9.7",
   "mimetype": "text/x-python",
   "codemirror_mode": {
    "name": "ipython",
    "version": 3
   },
   "pygments_lexer": "ipython3",
   "nbconvert_exporter": "python",
   "file_extension": ".py"
  },
  "kernelspec": {
   "name": "python3",
   "display_name": "Python 3.9.7 64-bit (windows store)"
  },
  "interpreter": {
   "hash": "d02623869268cb1a202edffbf33f02d8a7b302d1de546a45575ed82984468a4e"
  }
 },
 "nbformat": 4,
 "nbformat_minor": 2
}